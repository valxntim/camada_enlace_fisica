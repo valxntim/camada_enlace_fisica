{
 "cells": [
  {
   "cell_type": "markdown",
   "id": "2b720a60-a3b2-4114-aea9-e19d4d1a61d8",
   "metadata": {},
   "source": [
    "# Trabalho de Teleinformática e Redes 1"
   ]
  },
  {
   "cell_type": "markdown",
   "id": "ff2f4414-bd1e-4e41-be00-a2be276f10ee",
   "metadata": {
    "jp-MarkdownHeadingCollapsed": true
   },
   "source": [
    "## Capa\n",
    "\n",
    "Nome do Simulador:  TiquinhoSimulator  \n",
    "Membros do Grupo :  Gustavo Almeida Valentim - 20/2014468  "
   ]
  },
  {
   "cell_type": "markdown",
   "id": "9957cf33-8993-4701-8d18-7bb13fe6d155",
   "metadata": {},
   "source": [
    "##  Introdução\n",
    "\n",
    "Descrição do problema a ser resolvido e visão geral sobre o funcionamento do\n",
    "simulador.\n",
    "Foi pedido que se fosse implementado uma Simular o funcionamento da camada de enlace e camada física por meio da implementação dos protocolos de enquadramento, modulação banda-base e modulação por portadora."
   ]
  },
  {
   "cell_type": "markdown",
   "id": "016ab031-8480-4f2f-9513-9d9a3642a815",
   "metadata": {
    "jp-MarkdownHeadingCollapsed": true
   },
   "source": [
    "### NRZ_Polar\n",
    "(observações)"
   ]
  },
  {
   "cell_type": "code",
   "execution_count": 6,
   "id": "58503b1c-8675-4977-b3b8-5f2685d5c5ae",
   "metadata": {},
   "outputs": [],
   "source": [
    "import numpy as np\n",
    "\n",
    "def nrz_polar(bits):\n",
    "    signal = []         #  Lista de  bits\n",
    "    for bit in bits:\n",
    "        if bit == '0':  #  Bits 0 e 1 são representados por -1 e 1\n",
    "            signal.append(-1)\n",
    "        else:\n",
    "            signal.append(1)\n",
    "    return signal"
   ]
  },
  {
   "cell_type": "code",
   "execution_count": 10,
   "id": "0271a9a3-a3e1-46ae-a198-27045febb548",
   "metadata": {},
   "outputs": [
    {
     "data": {
      "text/plain": [
       "[1, -1, 1, -1, 1, -1]"
      ]
     },
     "execution_count": 10,
     "metadata": {},
     "output_type": "execute_result"
    }
   ],
   "source": [
    "bits = '101010'\n",
    "nrz_polar(bits)\n"
   ]
  },
  {
   "cell_type": "markdown",
   "id": "d85abbde-03f6-42c6-823c-c555e1067034",
   "metadata": {},
   "source": [
    "### Manchester\n",
    "(observações)"
   ]
  },
  {
   "cell_type": "code",
   "execution_count": 11,
   "id": "e879d0c3-c1df-447d-bc80-a6b87b67fb39",
   "metadata": {},
   "outputs": [],
   "source": [
    "# Função para modulação Manchester\n",
    "def manchester(bits, clock):\n",
    "    nrz_signal = nrz_polar(bits)  # Recebe o sinal NRZ-Polar\n",
    "    nrz_expanded = np.repeat(nrz_signal, 100)  # Repete o sinal para 100 vezes cada elemento da lista, [0,1] vira [0,0,0,0...,1,1,1,1...]\n",
    "    manchester_signal = np.logical_xor(nrz_expanded > 0, clock > 0.5).astype(int)\n",
    "    manchester_signal = manchester_signal * 2 - 1  # Ajusta os valores para -1 e 1\n",
    "    return manchester_signal"
   ]
  },
  {
   "cell_type": "markdown",
   "id": "24d5ff24-e8a3-45d1-980d-ed5129d959ae",
   "metadata": {},
   "source": [
    "### Bipolar\n",
    "(observações)"
   ]
  },
  {
   "cell_type": "code",
   "execution_count": null,
   "id": "9fac4333-684b-4e26-a409-3283e02cd47f",
   "metadata": {},
   "outputs": [],
   "source": [
    "# Função para modulação Bipolar\n",
    "def bipolar(bits):\n",
    "    signal = []\n",
    "    bits_um = None\n",
    "    for bit in bits:\n",
    "        if bit == '0':\n",
    "            signal.append(0)\n",
    "        else:\n",
    "            if bits_um is None:\n",
    "                bits_um = 1\n",
    "                signal.append(bits_um)\n",
    "            else:\n",
    "                if bits_um == 1:\n",
    "                    bits_um = -1\n",
    "                    signal.append(bits_um)\n",
    "                else:\n",
    "                    bits_um = 1\n",
    "                    signal.append(bits_um)\n",
    "    return signal"
   ]
  },
  {
   "cell_type": "markdown",
   "id": "79f798ef-5224-4b64-99df-5592d08c703b",
   "metadata": {},
   "source": [
    "### Modulação ASK\n",
    "(observações)"
   ]
  },
  {
   "cell_type": "code",
   "execution_count": 12,
   "id": "83e2231d-9297-4274-89e4-ff5d0d9b4095",
   "metadata": {},
   "outputs": [],
   "source": [
    "# Função para modulação ASK\n",
    "def ask_modulation(nrz_signal, carrier):\n",
    "    # Expande o sinal NRZ para combinar com a frequência do portador\n",
    "    nrz_expanded = np.repeat(nrz_signal, 100)\n",
    "    # Modula o sinal portador com base no sinal NRZ\n",
    "    ask_signal = np.where(nrz_expanded == 1, carrier, 0)\n",
    "    return ask_signal"
   ]
  },
  {
   "cell_type": "markdown",
   "id": "236d4d00-df5a-4ef9-8ed3-be961fbe4c0d",
   "metadata": {},
   "source": [
    "### Modulação FSK\n",
    "(observações)"
   ]
  },
  {
   "cell_type": "code",
   "execution_count": 14,
   "id": "b67a55c5-eef2-4bc0-8460-fea100dff019",
   "metadata": {},
   "outputs": [],
   "source": [
    "# Função para modulação FSK\n",
    "def fsk_modulation(nrz_signal, t, carrier_freq):\n",
    "    # Expande o sinal NRZ para combinar com a frequência do portador\n",
    "    nrz_expanded = np.repeat(nrz_signal, 100)\n",
    "    # Define frequências para FSK\n",
    "    freq_high = carrier_freq * 2\n",
    "    freq_low = carrier_freq\n",
    "    # Modula o sinal com FSK\n",
    "    fsk_signal = np.where(nrz_expanded == 1, np.sin(2 * np.pi * freq_high * t), np.sin(2 * np.pi * freq_low * t))\n",
    "    return fsk_signal"
   ]
  },
  {
   "cell_type": "markdown",
   "id": "2baf6e04-2afa-4264-a769-99471e740615",
   "metadata": {},
   "source": [
    "## Implementação\n",
    "\n",
    "Descrição detalhada do desenvolvimento com diagramas ilustrativos, o funcionamento dos protocolos, procedimentos utilizados, bem como decisões tomadas relativas aos casos e detalhes de especificação que porventura estejam omissos no enunciado."
   ]
  },
  {
   "cell_type": "markdown",
   "id": "4aa2a045-3f76-4e6b-9da3-8f32863986ea",
   "metadata": {},
   "source": [
    "## Membros\n",
    "Descrição das atividades desenvolvidas por cada membro do grupo."
   ]
  },
  {
   "cell_type": "markdown",
   "id": "32690f90-6c08-4d5f-b9a2-ed3ddfddf5d3",
   "metadata": {},
   "source": [
    "## Conclusão\n",
    "\n",
    "Comentários gerais sobre o trabalho e as principais dificuldades encontradas no\n",
    "desenvolvimento do simulador."
   ]
  }
 ],
 "metadata": {
  "kernelspec": {
   "display_name": "Python 3 (ipykernel)",
   "language": "python",
   "name": "python3"
  },
  "language_info": {
   "codemirror_mode": {
    "name": "ipython",
    "version": 3
   },
   "file_extension": ".py",
   "mimetype": "text/x-python",
   "name": "python",
   "nbconvert_exporter": "python",
   "pygments_lexer": "ipython3",
   "version": "3.10.12"
  }
 },
 "nbformat": 4,
 "nbformat_minor": 5
}
