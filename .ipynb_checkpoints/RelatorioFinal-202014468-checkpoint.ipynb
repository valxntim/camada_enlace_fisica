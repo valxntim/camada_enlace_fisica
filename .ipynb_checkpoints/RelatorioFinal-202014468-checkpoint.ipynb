{
 "cells": [
  {
   "cell_type": "markdown",
   "id": "2b720a60-a3b2-4114-aea9-e19d4d1a61d8",
   "metadata": {},
   "source": [
    "# Trabalho de Teleinformática e Redes 1"
   ]
  },
  {
   "cell_type": "markdown",
   "id": "ff2f4414-bd1e-4e41-be00-a2be276f10ee",
   "metadata": {
    "jp-MarkdownHeadingCollapsed": true
   },
   "source": [
    "## Capa\n",
    "\n",
    "Nome do Simulador:  TiquinhoSimulator  \n",
    "Membros do Grupo :  Gustavo Almeida Valentim - 20/2014468  "
   ]
  },
  {
   "cell_type": "markdown",
   "id": "9957cf33-8993-4701-8d18-7bb13fe6d155",
   "metadata": {},
   "source": [
    "##  Introdução\n",
    "\n",
    "Descrição do problema a ser resolvido e visão geral sobre o funcionamento do\n",
    "simulador."
   ]
  },
  {
   "cell_type": "raw",
   "id": "1a03a3f4-7da0-4d86-986a-18367640d574",
   "metadata": {},
   "source": [
    "Foi pedido que se fosse implementado uma Simular o funcionamento da camada de enlace e camada física por meio da implementação dos protocolos de enquadramento, modulação banda-base e modulação por portadora."
   ]
  },
  {
   "cell_type": "code",
   "execution_count": 1,
   "id": "58503b1c-8675-4977-b3b8-5f2685d5c5ae",
   "metadata": {},
   "outputs": [],
   "source": [
    "def nrz_polar(bits):\n",
    "    signal = []         #  Lista de  bits\n",
    "    for bit in bits:\n",
    "        if bit == '0':  #  Bits 0 e 1 são representados por -1 e 1\n",
    "            signal.append(-1)\n",
    "        else:\n",
    "            signal.append(1)\n",
    "    return signal"
   ]
  },
  {
   "cell_type": "markdown",
   "id": "3106816a-c7e7-44a5-96dd-423c39f1a6e4",
   "metadata": {},
   "source": [
    "## Implementação\n",
    "\n",
    "Descrição detalhada do desenvolvimento com diagramas ilustrativos, o funcionamento dos protocolos, procedimentos utilizados, bem como decisões tomadas relativas aos casos e detalhes de especificação que porventura estejam omissos no enunciado."
   ]
  },
  {
   "cell_type": "markdown",
   "id": "4aa2a045-3f76-4e6b-9da3-8f32863986ea",
   "metadata": {},
   "source": [
    "## Membros\n",
    "Descrição das atividades desenvolvidas por cada membro do grupo."
   ]
  },
  {
   "cell_type": "markdown",
   "id": "32690f90-6c08-4d5f-b9a2-ed3ddfddf5d3",
   "metadata": {},
   "source": [
    "## Conclusão\n",
    "\n",
    "Comentários gerais sobre o trabalho e as principais dificuldades encontradas no\n",
    "desenvolvimento do simulador."
   ]
  }
 ],
 "metadata": {
  "kernelspec": {
   "display_name": "Python 3 (ipykernel)",
   "language": "python",
   "name": "python3"
  },
  "language_info": {
   "codemirror_mode": {
    "name": "ipython",
    "version": 3
   },
   "file_extension": ".py",
   "mimetype": "text/x-python",
   "name": "python",
   "nbconvert_exporter": "python",
   "pygments_lexer": "ipython3",
   "version": "3.12.4"
  }
 },
 "nbformat": 4,
 "nbformat_minor": 5
}
